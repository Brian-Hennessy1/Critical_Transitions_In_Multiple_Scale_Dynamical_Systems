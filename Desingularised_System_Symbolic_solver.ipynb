{
 "cells": [
  {
   "cell_type": "code",
   "execution_count": 1,
   "id": "34019a74",
   "metadata": {},
   "outputs": [],
   "source": [
    "import sympy as sym"
   ]
  },
  {
   "cell_type": "code",
   "execution_count": 2,
   "id": "5d01be34",
   "metadata": {},
   "outputs": [],
   "source": [
    "phi, eta = sym.symbols('phi eta')"
   ]
  },
  {
   "cell_type": "code",
   "execution_count": 3,
   "id": "85dfe43b",
   "metadata": {},
   "outputs": [],
   "source": [
    "x_F = (eta-phi)/(2*eta*phi)\n",
    "y_F = (eta+phi)**2/(4*eta*phi)"
   ]
  },
  {
   "cell_type": "code",
   "execution_count": 4,
   "id": "f8355d11",
   "metadata": {},
   "outputs": [],
   "source": [
    "x,y = sym.symbols('x y')"
   ]
  },
  {
   "cell_type": "code",
   "execution_count": 5,
   "id": "ae7388c9",
   "metadata": {},
   "outputs": [],
   "source": [
    "f = (x+x_F)*(1-phi*(x+x_F)-(y+y_F)/(1+eta*(x+x_F)))"
   ]
  },
  {
   "cell_type": "code",
   "execution_count": 6,
   "id": "c2781496",
   "metadata": {},
   "outputs": [],
   "source": [
    "f_y = sym.diff(f,y)"
   ]
  },
  {
   "cell_type": "code",
   "execution_count": 7,
   "id": "53d28944",
   "metadata": {},
   "outputs": [],
   "source": [
    "f_y_phi = sym.diff(f_y,phi)"
   ]
  },
  {
   "cell_type": "code",
   "execution_count": 8,
   "id": "e6a2bf70",
   "metadata": {},
   "outputs": [],
   "source": [
    "io= sym.simplify(f_y_phi.subs(x,0).subs(y,0))"
   ]
  },
  {
   "cell_type": "code",
   "execution_count": 9,
   "id": "b9b46edf",
   "metadata": {},
   "outputs": [],
   "source": [
    "r = sym.symbols('r')\n",
    "u = (eta-1-r+sym.sqrt((1-eta+r)**2+8*eta*r))/(4*eta*r)\n",
    "phi_2 = eta/(1+2*eta*u)"
   ]
  },
  {
   "cell_type": "code",
   "execution_count": 10,
   "id": "bbde0c6b",
   "metadata": {},
   "outputs": [
    {
     "data": {
      "text/latex": [
       "$\\displaystyle \\frac{2 \\left(\\eta + r + \\sqrt{8 \\eta r + \\left(- \\eta + r + 1\\right)^{2}} - 1\\right)^{2}}{\\eta^{2} \\left(\\eta + 3 r + \\sqrt{8 \\eta r + \\left(- \\eta + r + 1\\right)^{2}} - 1\\right)^{2}}$"
      ],
      "text/plain": [
       "2*(eta + r + sqrt(8*eta*r + (-eta + r + 1)**2) - 1)**2/(eta**2*(eta + 3*r + sqrt(8*eta*r + (-eta + r + 1)**2) - 1)**2)"
      ]
     },
     "execution_count": 10,
     "metadata": {},
     "output_type": "execute_result"
    }
   ],
   "source": [
    "sym.simplify(io.subs(phi,phi_2))"
   ]
  },
  {
   "cell_type": "code",
   "execution_count": 11,
   "id": "3d347bf3",
   "metadata": {},
   "outputs": [],
   "source": [
    "f_x = sym.diff(f,x)\n",
    "f_xx = sym.diff(f_x,x)\n",
    "f_xxx = sym.diff(f_xx,x)"
   ]
  },
  {
   "cell_type": "code",
   "execution_count": 12,
   "id": "166bd725",
   "metadata": {},
   "outputs": [
    {
     "data": {
      "text/latex": [
       "$\\displaystyle - \\frac{24 \\eta \\phi^{3}}{\\left(\\eta + \\phi\\right)^{2}}$"
      ],
      "text/plain": [
       "-24*eta*phi**3/(eta + phi)**2"
      ]
     },
     "execution_count": 12,
     "metadata": {},
     "output_type": "execute_result"
    }
   ],
   "source": [
    "sym.simplify(f_xxx.subs(x,0).subs(y,0))"
   ]
  },
  {
   "cell_type": "code",
   "execution_count": 13,
   "id": "62a12378",
   "metadata": {},
   "outputs": [],
   "source": [
    "b = ((eta-phi)/(eta+phi))**2*((eta**3*phi-2*eta**3*r-eta**2*phi-eta*phi**3-phi**3)/(4*eta**3))"
   ]
  },
  {
   "cell_type": "code",
   "execution_count": 14,
   "id": "38b11947",
   "metadata": {},
   "outputs": [],
   "source": [
    "a = b.subs(phi,phi_2)\n",
    "a = sym.simplify(a)"
   ]
  },
  {
   "cell_type": "code",
   "execution_count": 15,
   "id": "956f4317",
   "metadata": {},
   "outputs": [],
   "source": [
    "c = sym.solve(a,eta)"
   ]
  },
  {
   "cell_type": "code",
   "execution_count": 16,
   "id": "d0ad232d",
   "metadata": {},
   "outputs": [
    {
     "data": {
      "text/plain": [
       "[-1,\n",
       " 0,\n",
       " -3*r - 2*sqrt(2)*sqrt(r**2 - r) + 1,\n",
       " -3*r + 2*sqrt(2)*sqrt(r**2 - r) + 1]"
      ]
     },
     "execution_count": 16,
     "metadata": {},
     "output_type": "execute_result"
    }
   ],
   "source": [
    "c"
   ]
  },
  {
   "cell_type": "code",
   "execution_count": 17,
   "id": "d7ed2181",
   "metadata": {},
   "outputs": [
    {
     "data": {
      "text/latex": [
       "$\\displaystyle 0$"
      ],
      "text/plain": [
       "0"
      ]
     },
     "execution_count": 17,
     "metadata": {},
     "output_type": "execute_result"
    }
   ],
   "source": [
    "f_x_phi = sym.diff(f_x,phi)\n",
    "sym.simplify(f_x_phi.subs(x,0).subs(y,0))"
   ]
  },
  {
   "cell_type": "code",
   "execution_count": 18,
   "id": "80e3442b",
   "metadata": {},
   "outputs": [
    {
     "data": {
      "text/latex": [
       "$\\displaystyle - \\frac{1}{16}$"
      ],
      "text/plain": [
       "-1/16"
      ]
     },
     "execution_count": 18,
     "metadata": {},
     "output_type": "execute_result"
    }
   ],
   "source": [
    "a.subs(r,1).subs(eta,1)"
   ]
  },
  {
   "cell_type": "code",
   "execution_count": 19,
   "id": "c1e9150b",
   "metadata": {},
   "outputs": [],
   "source": [
    "import matplotlib.pyplot as plt"
   ]
  },
  {
   "cell_type": "code",
   "execution_count": 21,
   "id": "8f4e8f35",
   "metadata": {},
   "outputs": [],
   "source": [
    "import numpy as np\n",
    "x = np.linspace(-5,5,101)\n",
    "x1 = np.linspace(1,5,81)\n",
    "x2 = np.linspace(-5,0,101)"
   ]
  },
  {
   "cell_type": "code",
   "execution_count": 22,
   "id": "871b9fe7",
   "metadata": {},
   "outputs": [],
   "source": [
    "y1 = [0 for i in range(len(x))]\n",
    "y2 = [-1 for i in range(len(x))]\n",
    "y3_1 = [-3*x2[i]+2*np.sqrt(2)*np.sqrt(x2[i]**2-x2[i])+1 for i in range(len(x2))]\n",
    "y3_2 = [-3*x1[i]+2*np.sqrt(2)*np.sqrt(x1[i]**2-x1[i])+1 for i in range(len(x1))]\n",
    "y4_1 = [-3*x2[i]-2*np.sqrt(2)*np.sqrt(x2[i]**2-x2[i])+1 for i in range(len(x2))]\n",
    "y4_2 = [-3*x1[i]-2*np.sqrt(2)*np.sqrt(x1[i]**2-x1[i])+1 for i in range(len(x1))]\n"
   ]
  },
  {
   "cell_type": "code",
   "execution_count": 23,
   "id": "d12fbe7c",
   "metadata": {},
   "outputs": [
    {
     "data": {
      "image/png": "[encoded data removed]",
      "text/plain": [
       "<Figure size 432x432 with 1 Axes>"
      ]
     },
     "metadata": {
      "needs_background": "light"
     },
     "output_type": "display_data"
    }
   ],
   "source": [
    "import matplotlib.pyplot as plt\n",
    "plt.figure(figsize=(6,6))\n",
    "plt.plot(x,y1,color='b')\n",
    "plt.plot(x,y2,color='b')\n",
    "plt.plot(x2,y3_1,color='b')\n",
    "plt.plot(x2,y4_1,color='b')\n",
    "plt.plot(x1,y3_2,color='b')\n",
    "plt.plot(x1,y4_2,color='b')\n",
    "plt.xlim(-5,5)\n",
    "plt.ylim(-5,5)\n",
    "plt.grid()\n",
    "plt.ylabel(\"$\\eta$\")\n",
    "plt.xlabel(\"$\\mu$\")\n",
    "plt.title(\"Bifurcation curves of $\\eta$ and $\\mu$\")\n",
    "plt.text(2,2,\"det(J) < 0\",color='k',fontsize=20)\n",
    "plt.savefig(\"Bifurcation_eta_mu\")"
   ]
  }
 ],
 "metadata": {
  "kernelspec": {
   "display_name": "Python 3 (ipykernel)",
   "language": "python",
   "name": "python3"
  },
  "language_info": {
   "codemirror_mode": {
    "name": "ipython",
    "version": 3
   },
   "file_extension": ".py",
   "mimetype": "text/x-python",
   "name": "python",
   "nbconvert_exporter": "python",
   "pygments_lexer": "ipython3",
   "version": "3.9.12"
  }
 },
 "nbformat": 4,
 "nbformat_minor": 5
}

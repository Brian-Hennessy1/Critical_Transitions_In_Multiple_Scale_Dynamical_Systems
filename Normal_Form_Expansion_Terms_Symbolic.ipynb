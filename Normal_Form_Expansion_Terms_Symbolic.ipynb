{
 "cells": [
  {
   "cell_type": "code",
   "execution_count": 4,
   "id": "e4d4b0f5",
   "metadata": {},
   "outputs": [],
   "source": [
    "import sympy as sym"
   ]
  },
  {
   "cell_type": "code",
   "execution_count": 5,
   "id": "362c73e7",
   "metadata": {},
   "outputs": [],
   "source": [
    "phi, eta = sym.symbols('phi eta')"
   ]
  },
  {
   "cell_type": "code",
   "execution_count": 6,
   "id": "ba3df3ae",
   "metadata": {},
   "outputs": [],
   "source": [
    "x_F = (eta-phi)/(2*eta*phi)"
   ]
  },
  {
   "cell_type": "code",
   "execution_count": 7,
   "id": "daed08d7",
   "metadata": {},
   "outputs": [],
   "source": [
    "y_F = (eta+phi)**2/(4*eta*phi)"
   ]
  },
  {
   "cell_type": "code",
   "execution_count": 9,
   "id": "93f6b57d",
   "metadata": {},
   "outputs": [],
   "source": [
    "x, y = sym.symbols('x y')"
   ]
  },
  {
   "cell_type": "code",
   "execution_count": 10,
   "id": "9e68a78c",
   "metadata": {},
   "outputs": [],
   "source": [
    "f = (x+x_F)*(1-phi*(x+x_F)-(y+y_F)/(1+eta*(x+x_F)))"
   ]
  },
  {
   "cell_type": "code",
   "execution_count": 11,
   "id": "131efedf",
   "metadata": {},
   "outputs": [
    {
     "data": {
      "text/latex": [
       "$\\displaystyle \\left(x + \\frac{\\eta - \\phi}{2 \\eta \\phi}\\right) \\left(- \\phi \\left(x + \\frac{\\eta - \\phi}{2 \\eta \\phi}\\right) - \\frac{y + \\frac{\\left(\\eta + \\phi\\right)^{2}}{4 \\eta \\phi}}{\\eta \\left(x + \\frac{\\eta - \\phi}{2 \\eta \\phi}\\right) + 1} + 1\\right)$"
      ],
      "text/plain": [
       "(x + (eta - phi)/(2*eta*phi))*(-phi*(x + (eta - phi)/(2*eta*phi)) - (y + (eta + phi)**2/(4*eta*phi))/(eta*(x + (eta - phi)/(2*eta*phi)) + 1) + 1)"
      ]
     },
     "execution_count": 11,
     "metadata": {},
     "output_type": "execute_result"
    }
   ],
   "source": [
    "f"
   ]
  },
  {
   "cell_type": "code",
   "execution_count": 12,
   "id": "d9882e04",
   "metadata": {},
   "outputs": [],
   "source": [
    "ans = sym.diff(f,phi)"
   ]
  },
  {
   "cell_type": "code",
   "execution_count": 13,
   "id": "0fea9a49",
   "metadata": {},
   "outputs": [],
   "source": [
    "ans2= ans.subs(x,0)\n",
    "ans3 = ans2.subs(y,0)"
   ]
  },
  {
   "cell_type": "code",
   "execution_count": 14,
   "id": "47399efe",
   "metadata": {},
   "outputs": [],
   "source": [
    "ans4 = sym.simplify(ans3)"
   ]
  },
  {
   "cell_type": "code",
   "execution_count": 15,
   "id": "0417b9a1",
   "metadata": {},
   "outputs": [
    {
     "data": {
      "text/latex": [
       "$\\displaystyle 0$"
      ],
      "text/plain": [
       "0"
      ]
     },
     "execution_count": 15,
     "metadata": {},
     "output_type": "execute_result"
    }
   ],
   "source": [
    "ans4"
   ]
  },
  {
   "cell_type": "code",
   "execution_count": 16,
   "id": "bfc971c8",
   "metadata": {},
   "outputs": [],
   "source": [
    "x_ans_1 = sym.diff(f,x)\n",
    "x_ans_2 = x_ans_1.subs(x,0)\n",
    "x_ans_3 = x_ans_2.subs(y,0)\n",
    "x_ans_4 = sym.simplify(x_ans_3)"
   ]
  },
  {
   "cell_type": "code",
   "execution_count": 17,
   "id": "6d8a445b",
   "metadata": {},
   "outputs": [
    {
     "data": {
      "text/latex": [
       "$\\displaystyle 0$"
      ],
      "text/plain": [
       "0"
      ]
     },
     "execution_count": 17,
     "metadata": {},
     "output_type": "execute_result"
    }
   ],
   "source": [
    "x_ans_4"
   ]
  },
  {
   "cell_type": "code",
   "execution_count": 18,
   "id": "6fc70888",
   "metadata": {},
   "outputs": [],
   "source": [
    "y_ans_1 = sym.diff(f,y)\n",
    "y_ans_2 = y_ans_1.subs(x,0)\n",
    "y_ans_3 = y_ans_2.subs(y,0)\n",
    "y_ans_4 = sym.simplify(y_ans_3)"
   ]
  },
  {
   "cell_type": "code",
   "execution_count": 19,
   "id": "3c4548e7",
   "metadata": {},
   "outputs": [
    {
     "data": {
      "text/latex": [
       "$\\displaystyle \\frac{- \\eta + \\phi}{\\eta \\left(\\eta + \\phi\\right)}$"
      ],
      "text/plain": [
       "(-eta + phi)/(eta*(eta + phi))"
      ]
     },
     "execution_count": 19,
     "metadata": {},
     "output_type": "execute_result"
    }
   ],
   "source": [
    "y_ans_4"
   ]
  },
  {
   "cell_type": "code",
   "execution_count": 20,
   "id": "52faf8e2",
   "metadata": {},
   "outputs": [],
   "source": [
    "f_1 = f.subs(x,0)\n",
    "f_2 = f_1.subs(y,0)"
   ]
  },
  {
   "cell_type": "code",
   "execution_count": 21,
   "id": "448a330e",
   "metadata": {},
   "outputs": [],
   "source": [
    "f_3 = sym.simplify(f_2)"
   ]
  },
  {
   "cell_type": "code",
   "execution_count": 22,
   "id": "b4bfc0d5",
   "metadata": {},
   "outputs": [
    {
     "data": {
      "text/latex": [
       "$\\displaystyle 0$"
      ],
      "text/plain": [
       "0"
      ]
     },
     "execution_count": 22,
     "metadata": {},
     "output_type": "execute_result"
    }
   ],
   "source": [
    "f_3"
   ]
  },
  {
   "cell_type": "code",
   "execution_count": 23,
   "id": "fbf1828a",
   "metadata": {},
   "outputs": [
    {
     "data": {
      "text/latex": [
       "$\\displaystyle \\frac{2 \\phi \\left(- \\eta + \\phi\\right)}{\\eta + \\phi}$"
      ],
      "text/plain": [
       "2*phi*(-eta + phi)/(eta + phi)"
      ]
     },
     "execution_count": 23,
     "metadata": {},
     "output_type": "execute_result"
    }
   ],
   "source": [
    "double_x_deriv = sym.diff(x_ans_1,x)\n",
    "dxx_2 = double_x_deriv.subs(x,0)\n",
    "dxx_3 = dxx_2.subs(y,0)\n",
    "dxx_4 = sym.simplify(dxx_3)\n",
    "dxx_4"
   ]
  },
  {
   "cell_type": "code",
   "execution_count": 24,
   "id": "7a71b4f3",
   "metadata": {},
   "outputs": [
    {
     "data": {
      "text/latex": [
       "$\\displaystyle - \\frac{4 \\phi^{2}}{\\left(\\eta + \\phi\\right)^{2}}$"
      ],
      "text/plain": [
       "-4*phi**2/(eta + phi)**2"
      ]
     },
     "execution_count": 24,
     "metadata": {},
     "output_type": "execute_result"
    }
   ],
   "source": [
    "double_xy_deriv = sym.diff(x_ans_1,y)\n",
    "dxy_2 = double_xy_deriv.subs(x,0)\n",
    "dxy_3 = dxy_2.subs(y,0)\n",
    "dxy_4 = sym.simplify(dxy_3)\n",
    "dxy_4"
   ]
  },
  {
   "cell_type": "code",
   "execution_count": 36,
   "id": "399b55e2",
   "metadata": {},
   "outputs": [
    {
     "data": {
      "text/latex": [
       "$\\displaystyle 0$"
      ],
      "text/plain": [
       "0"
      ]
     },
     "execution_count": 36,
     "metadata": {},
     "output_type": "execute_result"
    }
   ],
   "source": [
    "double_phi_deriv = sym.diff(ans,phi)\n",
    "dphiphi_2 = double_phi_deriv.subs(x,0)\n",
    "dphiphi_3 = dphiphi_2.subs(y,0)\n",
    "dphiphi_4 = sym.simplify(dphiphi_3)\n",
    "dphiphi_4"
   ]
  },
  {
   "cell_type": "code",
   "execution_count": 38,
   "id": "133a0cdb",
   "metadata": {},
   "outputs": [
    {
     "data": {
      "text/latex": [
       "$\\displaystyle 0$"
      ],
      "text/plain": [
       "0"
      ]
     },
     "execution_count": 38,
     "metadata": {},
     "output_type": "execute_result"
    }
   ],
   "source": [
    "double_y_deriv = sym.diff(y_ans_1,y)\n",
    "dyy_2 = double_y_deriv.subs(x,0)\n",
    "dyy_3 = dyy_2.subs(y,0)\n",
    "dyy_4 = sym.simplify(dyy_3)\n",
    "dyy_4"
   ]
  },
  {
   "cell_type": "code",
   "execution_count": 39,
   "id": "d97d1ca5",
   "metadata": {},
   "outputs": [
    {
     "data": {
      "text/latex": [
       "$\\displaystyle 0$"
      ],
      "text/plain": [
       "0"
      ]
     },
     "execution_count": 39,
     "metadata": {},
     "output_type": "execute_result"
    }
   ],
   "source": [
    "double_phix_deriv = sym.diff(x_ans_1,phi)\n",
    "dphix_2 = double_phix_deriv.subs(x,0)\n",
    "dphix_3 = dphix_2.subs(y,0)\n",
    "dphix_4 = sym.simplify(dphix_3)\n",
    "dphix_4"
   ]
  },
  {
   "cell_type": "code",
   "execution_count": 40,
   "id": "f6e28a73",
   "metadata": {},
   "outputs": [
    {
     "data": {
      "text/latex": [
       "$\\displaystyle \\frac{2}{\\left(\\eta + \\phi\\right)^{2}}$"
      ],
      "text/plain": [
       "2/(eta + phi)**2"
      ]
     },
     "execution_count": 40,
     "metadata": {},
     "output_type": "execute_result"
    }
   ],
   "source": [
    "double_phiy_deriv = sym.diff(y_ans_1,phi)\n",
    "dphiy_2 = double_phiy_deriv.subs(x,0)\n",
    "dphiy_3 = dphiy_2.subs(y,0)\n",
    "dphiy_4 = sym.simplify(dphiy_3)\n",
    "dphiy_4"
   ]
  },
  {
   "cell_type": "code",
   "execution_count": 52,
   "id": "0c789d6a",
   "metadata": {},
   "outputs": [],
   "source": [
    "r = sym.symbols(\"r\")"
   ]
  },
  {
   "cell_type": "code",
   "execution_count": 53,
   "id": "43c86a99",
   "metadata": {},
   "outputs": [],
   "source": [
    "g = (x+x_F)*(y+y_F)/(1+eta*(x+x_F))-(y+y_F)-r*((eta+phi)/(2*eta*phi)-(eta+phi)**2/(4*eta*phi**2))"
   ]
  },
  {
   "cell_type": "code",
   "execution_count": 54,
   "id": "a854cc08",
   "metadata": {},
   "outputs": [
    {
     "data": {
      "text/latex": [
       "$\\displaystyle - r \\left(\\frac{\\eta + \\phi}{2 \\eta \\phi} - \\frac{\\left(\\eta + \\phi\\right)^{2}}{4 \\eta \\phi^{2}}\\right) - y + \\frac{\\left(x + \\frac{\\eta - \\phi}{2 \\eta \\phi}\\right) \\left(y + \\frac{\\left(\\eta + \\phi\\right)^{2}}{4 \\eta \\phi}\\right)}{\\eta \\left(x + \\frac{\\eta - \\phi}{2 \\eta \\phi}\\right) + 1} - \\frac{\\left(\\eta + \\phi\\right)^{2}}{4 \\eta \\phi}$"
      ],
      "text/plain": [
       "-r*((eta + phi)/(2*eta*phi) - (eta + phi)**2/(4*eta*phi**2)) - y + (x + (eta - phi)/(2*eta*phi))*(y + (eta + phi)**2/(4*eta*phi))/(eta*(x + (eta - phi)/(2*eta*phi)) + 1) - (eta + phi)**2/(4*eta*phi)"
      ]
     },
     "execution_count": 54,
     "metadata": {},
     "output_type": "execute_result"
    }
   ],
   "source": [
    "g"
   ]
  },
  {
   "cell_type": "code",
   "execution_count": 55,
   "id": "412cdaa8",
   "metadata": {},
   "outputs": [],
   "source": [
    "dgdx = sym.diff(g,x)\n",
    "dgdx1 = dgdx.subs(x,0)\n",
    "dgdx2 = dgdx1.subs(y,0)\n",
    "dgdx3 = sym.simplify(dgdx2)"
   ]
  },
  {
   "cell_type": "code",
   "execution_count": 56,
   "id": "de6404b5",
   "metadata": {},
   "outputs": [
    {
     "data": {
      "text/latex": [
       "$\\displaystyle \\frac{\\phi}{\\eta}$"
      ],
      "text/plain": [
       "phi/eta"
      ]
     },
     "execution_count": 56,
     "metadata": {},
     "output_type": "execute_result"
    }
   ],
   "source": [
    "dgdx3"
   ]
  },
  {
   "cell_type": "code",
   "execution_count": 57,
   "id": "3b8aaa60",
   "metadata": {},
   "outputs": [],
   "source": [
    "dgdy = sym.diff(g,y)\n",
    "dgdy1 = dgdy.subs(x,0)\n",
    "dgdy2 = dgdy1.subs(y,0)\n",
    "dgdy3 = sym.simplify(dgdy2)"
   ]
  },
  {
   "cell_type": "code",
   "execution_count": 58,
   "id": "73335db9",
   "metadata": {},
   "outputs": [
    {
     "data": {
      "text/latex": [
       "$\\displaystyle \\frac{- \\eta \\left(\\eta + \\phi\\right) + \\eta - \\phi}{\\eta \\left(\\eta + \\phi\\right)}$"
      ],
      "text/plain": [
       "(-eta*(eta + phi) + eta - phi)/(eta*(eta + phi))"
      ]
     },
     "execution_count": 58,
     "metadata": {},
     "output_type": "execute_result"
    }
   ],
   "source": [
    "dgdy3"
   ]
  },
  {
   "cell_type": "code",
   "execution_count": 59,
   "id": "3cc3c037",
   "metadata": {},
   "outputs": [],
   "source": [
    "dgdphi = sym.diff(g,phi)\n",
    "dgdphi1 = dgdphi.subs(x,0)\n",
    "dgdphi2 = dgdphi1.subs(y,0)\n",
    "dgdphi3 = sym.simplify(dgdphi2)"
   ]
  },
  {
   "cell_type": "code",
   "execution_count": 60,
   "id": "96fbafda",
   "metadata": {},
   "outputs": [
    {
     "data": {
      "text/latex": [
       "$\\displaystyle \\frac{\\eta^{3} \\phi - 2 \\eta^{3} r - \\eta^{2} \\phi - \\eta \\phi^{3} - \\phi^{3}}{4 \\eta^{2} \\phi^{3}}$"
      ],
      "text/plain": [
       "(eta**3*phi - 2*eta**3*r - eta**2*phi - eta*phi**3 - phi**3)/(4*eta**2*phi**3)"
      ]
     },
     "execution_count": 60,
     "metadata": {},
     "output_type": "execute_result"
    }
   ],
   "source": [
    "dgdphi3"
   ]
  },
  {
   "cell_type": "code",
   "execution_count": 61,
   "id": "7a054bf0",
   "metadata": {},
   "outputs": [],
   "source": [
    "u = (eta-1-r+sym.sqrt((1-eta+r)**2+8*eta*r))/(4*eta*r)\n",
    "phi_2 = eta/(1+2*eta*u)\n"
   ]
  },
  {
   "cell_type": "code",
   "execution_count": 62,
   "id": "4ca84f91",
   "metadata": {},
   "outputs": [],
   "source": [
    "d = sym.simplify(dgdphi3.subs(phi,phi_2))"
   ]
  },
  {
   "cell_type": "code",
   "execution_count": 68,
   "id": "8122a1a8",
   "metadata": {},
   "outputs": [],
   "source": [
    "a = ((eta-phi)/(eta+phi))**2*dgdphi3*phi**3/eta"
   ]
  },
  {
   "cell_type": "code",
   "execution_count": 71,
   "id": "14b07dfc",
   "metadata": {},
   "outputs": [],
   "source": [
    "aa = a.subs(phi,phi_2)"
   ]
  },
  {
   "cell_type": "code",
   "execution_count": 73,
   "id": "dfad824e",
   "metadata": {},
   "outputs": [
    {
     "data": {
      "text/plain": [
       "[-1, -3*r - 2*sqrt(2)*sqrt(r**2 - r) + 1, -3*r + 2*sqrt(2)*sqrt(r**2 - r) + 1]"
      ]
     },
     "execution_count": 73,
     "metadata": {},
     "output_type": "execute_result"
    }
   ],
   "source": [
    "sym.solve(aa,eta)"
   ]
  }
 ],
 "metadata": {
  "kernelspec": {
   "display_name": "Python 3 (ipykernel)",
   "language": "python",
   "name": "python3"
  },
  "language_info": {
   "codemirror_mode": {
    "name": "ipython",
    "version": 3
   },
   "file_extension": ".py",
   "mimetype": "text/x-python",
   "name": "python",
   "nbconvert_exporter": "python",
   "pygments_lexer": "ipython3",
   "version": "3.9.12"
  }
 },
 "nbformat": 4,
 "nbformat_minor": 5
}

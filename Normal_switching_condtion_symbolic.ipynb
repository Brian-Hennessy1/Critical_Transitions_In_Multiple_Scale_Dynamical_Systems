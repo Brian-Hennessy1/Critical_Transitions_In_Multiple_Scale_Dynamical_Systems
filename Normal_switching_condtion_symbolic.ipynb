{
 "cells": [
  {
   "cell_type": "code",
   "execution_count": 1,
   "id": "fefc919f",
   "metadata": {},
   "outputs": [],
   "source": [
    "import sympy as sym"
   ]
  },
  {
   "cell_type": "code",
   "execution_count": 2,
   "id": "c35c3f5a",
   "metadata": {},
   "outputs": [],
   "source": [
    "phi, eta = sym.symbols('phi eta')"
   ]
  },
  {
   "cell_type": "code",
   "execution_count": 3,
   "id": "2135a613",
   "metadata": {},
   "outputs": [],
   "source": [
    "x_F = (eta-phi)/(2*eta*phi)\n",
    "y_F = (eta+phi)**2/(4*eta*phi)"
   ]
  },
  {
   "cell_type": "code",
   "execution_count": 4,
   "id": "10165ed8",
   "metadata": {},
   "outputs": [],
   "source": [
    "x,y = sym.symbols('x y')"
   ]
  },
  {
   "cell_type": "code",
   "execution_count": 5,
   "id": "abcbef09",
   "metadata": {},
   "outputs": [],
   "source": [
    "f = x*(1-phi*x)-(x*y)/(1+eta*x)"
   ]
  },
  {
   "cell_type": "code",
   "execution_count": 6,
   "id": "58637b02",
   "metadata": {},
   "outputs": [],
   "source": [
    "f_phi = sym.diff(f,phi)"
   ]
  },
  {
   "cell_type": "code",
   "execution_count": 7,
   "id": "be91dfee",
   "metadata": {},
   "outputs": [],
   "source": [
    "f_y = sym.diff(f,y)"
   ]
  },
  {
   "cell_type": "code",
   "execution_count": 8,
   "id": "bf53543f",
   "metadata": {},
   "outputs": [
    {
     "data": {
      "text/latex": [
       "$\\displaystyle - \\frac{x}{\\eta x + 1}$"
      ],
      "text/plain": [
       "-x/(eta*x + 1)"
      ]
     },
     "execution_count": 8,
     "metadata": {},
     "output_type": "execute_result"
    }
   ],
   "source": [
    "f_y"
   ]
  },
  {
   "cell_type": "code",
   "execution_count": 9,
   "id": "edc2cbb3",
   "metadata": {},
   "outputs": [],
   "source": [
    "g = (x*y)/(1+eta*x)-y"
   ]
  },
  {
   "cell_type": "code",
   "execution_count": 10,
   "id": "6f5dabd5",
   "metadata": {},
   "outputs": [],
   "source": [
    "mu = sym.symbols('mu')"
   ]
  },
  {
   "cell_type": "code",
   "execution_count": 11,
   "id": "2624c6fc",
   "metadata": {},
   "outputs": [],
   "source": [
    "l = f_y*g + mu*f_phi"
   ]
  },
  {
   "cell_type": "code",
   "execution_count": 12,
   "id": "e6a8a1fa",
   "metadata": {},
   "outputs": [],
   "source": [
    "ln = sym.simplify(l.subs(x,x_F).subs(y,y_F))"
   ]
  },
  {
   "cell_type": "code",
   "execution_count": 13,
   "id": "f37f8ba1",
   "metadata": {},
   "outputs": [
    {
     "data": {
      "text/latex": [
       "$\\displaystyle \\frac{\\left(\\eta - \\phi\\right) \\left(- \\eta \\mu \\left(\\eta - \\phi\\right) + \\phi \\left(\\eta \\left(\\eta + \\phi\\right) - \\eta + \\phi\\right)\\right)}{4 \\eta^{3} \\phi^{2}}$"
      ],
      "text/plain": [
       "(eta - phi)*(-eta*mu*(eta - phi) + phi*(eta*(eta + phi) - eta + phi))/(4*eta**3*phi**2)"
      ]
     },
     "execution_count": 13,
     "metadata": {},
     "output_type": "execute_result"
    }
   ],
   "source": [
    "ln"
   ]
  },
  {
   "cell_type": "code",
   "execution_count": 18,
   "id": "0b17c607",
   "metadata": {},
   "outputs": [],
   "source": [
    "phi_F_S_2 = sym.solve(ln,phi)[2]"
   ]
  },
  {
   "cell_type": "code",
   "execution_count": 19,
   "id": "13b5cb51",
   "metadata": {},
   "outputs": [
    {
     "data": {
      "text/latex": [
       "$\\displaystyle \\frac{\\eta \\left(- \\eta - \\mu + \\sqrt{\\eta^{2} + 6 \\eta \\mu - 2 \\eta + \\mu^{2} + 2 \\mu + 1} + 1\\right)}{2 \\left(\\eta + 1\\right)}$"
      ],
      "text/plain": [
       "eta*(-eta - mu + sqrt(eta**2 + 6*eta*mu - 2*eta + mu**2 + 2*mu + 1) + 1)/(2*(eta + 1))"
      ]
     },
     "execution_count": 19,
     "metadata": {},
     "output_type": "execute_result"
    }
   ],
   "source": [
    "phi_F_S_2"
   ]
  },
  {
   "cell_type": "code",
   "execution_count": 20,
   "id": "3eb9fe8f",
   "metadata": {},
   "outputs": [
    {
     "data": {
      "text/latex": [
       "$\\displaystyle \\frac{- 3 \\eta - \\mu + \\sqrt{\\eta^{2} + 6 \\eta \\mu - 2 \\eta + \\mu^{2} + 2 \\mu + 1} - 1}{2 \\eta \\left(\\eta + \\mu - \\sqrt{\\eta^{2} + 6 \\eta \\mu - 2 \\eta + \\mu^{2} + 2 \\mu + 1} - 1\\right)}$"
      ],
      "text/plain": [
       "(-3*eta - mu + sqrt(eta**2 + 6*eta*mu - 2*eta + mu**2 + 2*mu + 1) - 1)/(2*eta*(eta + mu - sqrt(eta**2 + 6*eta*mu - 2*eta + mu**2 + 2*mu + 1) - 1))"
      ]
     },
     "execution_count": 20,
     "metadata": {},
     "output_type": "execute_result"
    }
   ],
   "source": [
    "sym.simplify(x_F.subs(phi,phi_F_S_2))"
   ]
  }
 ],
 "metadata": {
  "kernelspec": {
   "display_name": "Python 3 (ipykernel)",
   "language": "python",
   "name": "python3"
  },
  "language_info": {
   "codemirror_mode": {
    "name": "ipython",
    "version": 3
   },
   "file_extension": ".py",
   "mimetype": "text/x-python",
   "name": "python",
   "nbconvert_exporter": "python",
   "pygments_lexer": "ipython3",
   "version": "3.9.12"
  }
 },
 "nbformat": 4,
 "nbformat_minor": 5
}
